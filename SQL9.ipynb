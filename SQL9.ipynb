{
 "cells": [
  {
   "cell_type": "raw",
   "id": "8124a562",
   "metadata": {},
   "source": [
    "Q-17. Write an SQL query to show the top n (say 10) records of a table.\n",
    "ANS- SELECT TOP 10 * FROM Customers;"
   ]
  },
  {
   "cell_type": "code",
   "execution_count": null,
   "id": "0c4ea8ac",
   "metadata": {},
   "outputs": [],
   "source": [
    "Q-18. Write an SQL query to determine the nth (say n=5) highest salary from a table.\n",
    "ANS- select * from(\n",
    "select ename, sal, dense_rank() \n",
    "over(order by sal desc)r from Employee) \n",
    "where r=&n;\n",
    "\n",
    "To find to the 2nd highest sal set n = 2\n",
    "To find 3rd highest sal set n = 3 and so on."
   ]
  }
 ],
 "metadata": {
  "kernelspec": {
   "display_name": "Python 3 (ipykernel)",
   "language": "python",
   "name": "python3"
  },
  "language_info": {
   "codemirror_mode": {
    "name": "ipython",
    "version": 3
   },
   "file_extension": ".py",
   "mimetype": "text/x-python",
   "name": "python",
   "nbconvert_exporter": "python",
   "pygments_lexer": "ipython3",
   "version": "3.9.7"
  }
 },
 "nbformat": 4,
 "nbformat_minor": 5
}
